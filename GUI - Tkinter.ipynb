{
 "cells": [
  {
   "cell_type": "markdown",
   "id": "af1eac3d",
   "metadata": {},
   "source": [
    " # GUI with TKinter"
   ]
  },
  {
   "cell_type": "code",
   "execution_count": 1,
   "id": "d55c79e6",
   "metadata": {},
   "outputs": [],
   "source": [
    "import time\n",
    "import tkinter as tk\n",
    "from tkinter import Label"
   ]
  },
  {
   "cell_type": "code",
   "execution_count": 4,
   "id": "46cb6e2f",
   "metadata": {},
   "outputs": [],
   "source": [
    "# there are two methods when we are creating GUI with Tkinter\n",
    "# tk - this is for the main screen creation\n",
    "# mainloop() - this method creates an infinite loop for the exectuion of app; written at the end of the program\n",
    "\n",
    "mainScreen = tk.Tk(className= 'Welcome to my world')\n",
    "button = tk.Button(text = 'Exit the screen', command = mainScreen.destroy, width = 15)\n",
    "button.pack()\n",
    "tk.mainloop()"
   ]
  },
  {
   "cell_type": "markdown",
   "id": "a80117c8",
   "metadata": {},
   "source": [
    "# First GUI"
   ]
  },
  {
   "cell_type": "code",
   "execution_count": 6,
   "id": "859ea451",
   "metadata": {},
   "outputs": [],
   "source": [
    "rootScreen = tk.Tk(className =' First GUI with Tkinter')            # Firstly define only the root window\n",
    "\n",
    "# rootScreen.attributes(\"-fullscreen\", True) --> to display the fullscreen\n",
    "rootScreen.geometry(\"1000x500\")  # display customised size of the rootScreen\n",
    "\n",
    "# All the actions will be done on the Main Window Screen i.e. rootScreen\n",
    "insideScreen = tk.Label(rootScreen, text = 'Hello Tkinter', \n",
    "                        font=(\"Courier-Bold\", 75), \n",
    "                        fg=\"#205430\", \n",
    "                        bg=\"#d2e3a1\", \n",
    "                        bd= 35)\n",
    "insideScreen.pack(pady = 200, anchor = \"center\") # pack() is important to display insideScreen; \n",
    "# pack() defines the layout of the innerScreen\n",
    "# anchor values are e,w,s,n,se,sw,ne,nw\n",
    "tk.mainloop()"
   ]
  },
  {
   "cell_type": "markdown",
   "id": "869a2ad6",
   "metadata": {},
   "source": [
    "# Digital Clock"
   ]
  }
 ],
 "metadata": {
  "kernelspec": {
   "display_name": "Python 3",
   "language": "python",
   "name": "python3"
  },
  "language_info": {
   "codemirror_mode": {
    "name": "ipython",
    "version": 3
   },
   "file_extension": ".py",
   "mimetype": "text/x-python",
   "name": "python",
   "nbconvert_exporter": "python",
   "pygments_lexer": "ipython3",
   "version": "3.8.8"
  }
 },
 "nbformat": 4,
 "nbformat_minor": 5
}
