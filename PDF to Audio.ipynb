{
 "cells": [
  {
   "cell_type": "markdown",
   "id": "0d7f0e20",
   "metadata": {},
   "source": [
    "# PDF to Audio"
   ]
  },
  {
   "cell_type": "code",
   "execution_count": 1,
   "id": "618d31ff",
   "metadata": {},
   "outputs": [],
   "source": [
    "import pyttsx3\n",
    "import PyPDF2 # pdf operations like merging, splitting, cropping and transformation\n",
    "from gtts import gTTS"
   ]
  },
  {
   "cell_type": "markdown",
   "id": "f7cd07f8",
   "metadata": {},
   "source": [
    "# To get the audio of the whole PDF"
   ]
  },
  {
   "cell_type": "code",
   "execution_count": 34,
   "id": "6a1cd089",
   "metadata": {
    "scrolled": true
   },
   "outputs": [],
   "source": [
    "# open the pdf file\n",
    "open_file = open('/Users/navneetgujjar/Documents/Python/Links to Python Resources.pdf','rb')\n",
    "\n",
    "# create a pdfreader object\n",
    "pdfReader = PyPDF2.PdfFileReader(open_file) # create a pdfFileReader\n",
    "\n",
    "for pages in range(pdfReader.numPages): # to get all the pages we used PdfFileReader.numPages\n",
    "    pageByNumber = pdfReader.getPage(pages) # to get the page by number\n",
    "    mytext = pageByNumber.extractText() # to get the text from that particular page\n",
    "open_file.close()\n",
    "\n",
    "tts = gTTS(text = mytext ,lang= 'en') #gTTS - google text to speech\n",
    "tts.save(\"pythonResource.mp3\")\n",
    "\n",
    "\n",
    "# getNumPages()\n",
    "# Calculate the number of pages\n",
    "\n",
    "# getPage(pageNumber)\n",
    "# Retrieves a page by number"
   ]
  },
  {
   "cell_type": "markdown",
   "id": "03a0d801",
   "metadata": {},
   "source": [
    "# To get the audio of a particular page in a PDF"
   ]
  },
  {
   "cell_type": "code",
   "execution_count": null,
   "id": "d302e986",
   "metadata": {},
   "outputs": [],
   "source": [
    "open_file = open('/Users/navneetgujjar/Documents/Python/Links to Python Resources.pdf','rb')\n",
    "\n",
    "# create a pdfreader object\n",
    "pdfReader = PyPDF2.PdfFileReader(open_file) # create a pdfFileReader\n",
    "\n",
    "for pages in range(pdfReader.numPages): # to get all the pages we used PdfFileReader.numPages\n",
    "    pageByNumber = pdfReader.getPage(pages) # to get the page by number\n",
    "    mytext = pageByNumber.extractText() # to get the text from that particular page\n",
    "open_file.close()\n",
    "\n",
    "tts = gTTS(text = mytext ,lang= 'en') #gTTS - google text to speech\n",
    "tts.save(\"pythonResource.mp3\")"
   ]
  }
 ],
 "metadata": {
  "kernelspec": {
   "display_name": "Python 3",
   "language": "python",
   "name": "python3"
  },
  "language_info": {
   "codemirror_mode": {
    "name": "ipython",
    "version": 3
   },
   "file_extension": ".py",
   "mimetype": "text/x-python",
   "name": "python",
   "nbconvert_exporter": "python",
   "pygments_lexer": "ipython3",
   "version": "3.8.8"
  }
 },
 "nbformat": 4,
 "nbformat_minor": 5
}
